{
 "cells": [
  {
   "cell_type": "code",
   "execution_count": 1,
   "metadata": {},
   "outputs": [],
   "source": [
    "from sklearn.linear_model import LinearRegression\n",
    "from sklearn.datasets import load_breast_cancer\n",
    "import numpy as np\n",
    "import matplotlib.pyplot as plt\n",
    "import matplotlib"
   ]
  },
  {
   "cell_type": "code",
   "execution_count": 8,
   "metadata": {},
   "outputs": [],
   "source": [
    "### 한글 폰트 설정\n",
    "import matplotlib\n",
    "from matplotlib import font_manager, rc\n",
    "import matplotlib.pyplot as plt\n",
    "import platform\n",
    "\n",
    "path = \"C:/Windows/Fonts/malgun.ttf\"\n",
    "if platform.system() == \"Windows\":\n",
    "    font_name = font_manager.FontProperties(fname=path).get_name()\n",
    "    rc('font', family=font_name)\n",
    "elif platform.system()==\"Darwin\":\n",
    "    rc('font', family='AppleGothic')\n",
    "else:\n",
    "    print(\"Unknown System\")\n",
    "    \n",
    "matplotlib.rcParams['axes.unicode_minus'] = False\n",
    "\n",
    "%matplotlib inline"
   ]
  },
  {
   "cell_type": "code",
   "execution_count": 11,
   "metadata": {},
   "outputs": [],
   "source": [
    "from sklearn.model_selection import train_test_split\n",
    "from sklearn.linear_model import LinearRegression"
   ]
  },
  {
   "cell_type": "code",
   "execution_count": 5,
   "metadata": {},
   "outputs": [],
   "source": [
    "cancer = load_breast_cancer()\n",
    "X = cancer.data\n",
    "y = cancer.target"
   ]
  },
  {
   "cell_type": "code",
   "execution_count": 6,
   "metadata": {},
   "outputs": [
    {
     "name": "stdout",
     "output_type": "stream",
     "text": [
      "dict_keys(['data', 'target', 'frame', 'target_names', 'DESCR', 'feature_names', 'filename'])\n",
      "['mean radius' 'mean texture' 'mean perimeter' 'mean area'\n",
      " 'mean smoothness' 'mean compactness' 'mean concavity'\n",
      " 'mean concave points' 'mean symmetry' 'mean fractal dimension'\n",
      " 'radius error' 'texture error' 'perimeter error' 'area error'\n",
      " 'smoothness error' 'compactness error' 'concavity error'\n",
      " 'concave points error' 'symmetry error' 'fractal dimension error'\n",
      " 'worst radius' 'worst texture' 'worst perimeter' 'worst area'\n",
      " 'worst smoothness' 'worst compactness' 'worst concavity'\n",
      " 'worst concave points' 'worst symmetry' 'worst fractal dimension']\n"
     ]
    }
   ],
   "source": [
    "print( cancer.keys() )\n",
    "print( cancer.feature_names )"
   ]
  },
  {
   "cell_type": "code",
   "execution_count": 9,
   "metadata": {},
   "outputs": [
    {
     "data": {
      "text/plain": [
       "(array([212.,   0.,   0.,   0.,   0.,   0.,   0.,   0.,   0., 357.]),\n",
       " array([0. , 0.1, 0.2, 0.3, 0.4, 0.5, 0.6, 0.7, 0.8, 0.9, 1. ]),\n",
       " <a list of 10 Patch objects>)"
      ]
     },
     "execution_count": 9,
     "metadata": {},
     "output_type": "execute_result"
    },
    {
     "data": {
      "image/png": "[encoded data removed]",
      "text/plain": [
       "<Figure size 432x288 with 1 Axes>"
      ]
     },
     "metadata": {
      "needs_background": "light"
     },
     "output_type": "display_data"
    }
   ],
   "source": [
    "plt.hist(y)"
   ]
  },
  {
   "cell_type": "code",
   "execution_count": 12,
   "metadata": {},
   "outputs": [],
   "source": [
    "X_train, X_test, y_train, y_test = train_test_split(X, y, \n",
    "                                           random_state=42)"
   ]
  },
  {
   "cell_type": "code",
   "execution_count": 13,
   "metadata": {},
   "outputs": [
    {
     "data": {
      "text/plain": [
       "array([ 0.62146212,  0.19849906,  0.27416519,  1.13196807,  1.1201975 ,\n",
       "       -0.65832448, -0.05888011,  0.43293341,  0.25540949,  0.96541474,\n",
       "        0.77613543,  0.32486139,  0.90537365,  0.38364338,  0.93217848,\n",
       "        0.18069198,  0.92465377,  1.19340235,  1.43493468,  0.01335516,\n",
       "        0.6563777 ,  0.87175726, -0.43053822,  1.07858677,  0.95235005,\n",
       "        0.83148475,  0.98115676,  0.84599039,  0.94831314, -0.20471322,\n",
       "        1.01153244,  1.0469781 ,  0.80457539,  0.92777625,  1.06961736,\n",
       "        0.8382285 ,  0.4769304 ,  0.63046388,  0.25983274,  0.75057537,\n",
       "        1.15074081,  0.02292288,  0.96494069,  0.99698272,  0.50789479,\n",
       "        0.65012214,  0.93596734,  0.99797142,  0.78748068,  1.01230437,\n",
       "        0.20865587, -0.12331866,  0.52253576,  0.60960077,  1.02150647,\n",
       "        0.80095064,  0.92358872, -0.34620317,  0.54363085,  1.05188349,\n",
       "        0.92975313, -0.20642278, -0.35012463,  0.79509521,  0.90804962,\n",
       "        0.53054802, -0.21281613, -0.16569036,  0.97362429,  0.81448886,\n",
       "        0.09618633,  0.08576837,  0.8505001 ,  0.22734575,  0.97540158,\n",
       "        0.8276587 ,  0.80579357,  0.58989065,  1.18423044,  0.7632771 ,\n",
       "        0.41424717,  1.07772959,  0.53925335, -0.18650844,  0.31367041,\n",
       "        0.15960329, -0.51448538,  0.01527436,  0.96712853,  0.94726419,\n",
       "        0.82248118,  0.7894932 ,  0.77590034,  1.08715743,  0.98643906,\n",
       "        0.96255642, -0.02361301, -0.18157611,  1.04118945,  0.11362439,\n",
       "        0.24034883,  1.29006702,  0.20622874,  0.15663745,  0.76974559,\n",
       "        0.73722502,  0.79695982, -0.06384876,  0.70893746,  0.73702749,\n",
       "        0.16845977,  0.95966278,  0.5382247 ,  0.11088251,  0.7644951 ,\n",
       "       -0.35402243,  1.10803377,  0.80051102,  1.10688554, -0.14122849,\n",
       "        0.86638255,  1.03160995,  0.80638005,  0.09236655,  0.65509411,\n",
       "       -0.09453962,  0.17245152,  0.92992027,  0.94819655, -0.12281036,\n",
       "        0.01258392, -0.48594393,  0.79688358,  0.93769174,  0.72667945,\n",
       "        0.22781088,  0.70294233,  0.64832145,  0.66198352,  0.08742529,\n",
       "        0.96992012,  0.00475752,  1.17309092])"
      ]
     },
     "execution_count": 13,
     "metadata": {},
     "output_type": "execute_result"
    }
   ],
   "source": [
    "model = LinearRegression().fit(X_train, y_train)   # 학습\n",
    "pred = model.predict(X_test)\n",
    "pred"
   ]
  },
  {
   "cell_type": "code",
   "execution_count": 20,
   "metadata": {},
   "outputs": [],
   "source": [
    "import pandas as pd\n",
    "import numpy as np"
   ]
  },
  {
   "cell_type": "code",
   "execution_count": 21,
   "metadata": {},
   "outputs": [
    {
     "data": {
      "text/html": [
       "<div>\n",
       "<style scoped>\n",
       "    .dataframe tbody tr th:only-of-type {\n",
       "        vertical-align: middle;\n",
       "    }\n",
       "\n",
       "    .dataframe tbody tr th {\n",
       "        vertical-align: top;\n",
       "    }\n",
       "\n",
       "    .dataframe thead th {\n",
       "        text-align: right;\n",
       "    }\n",
       "</style>\n",
       "<table border=\"1\" class=\"dataframe\">\n",
       "  <thead>\n",
       "    <tr style=\"text-align: right;\">\n",
       "      <th></th>\n",
       "      <th>실제값</th>\n",
       "      <th>예측값</th>\n",
       "      <th>오차</th>\n",
       "    </tr>\n",
       "  </thead>\n",
       "  <tbody>\n",
       "    <tr>\n",
       "      <th>0</th>\n",
       "      <td>1</td>\n",
       "      <td>0.621462</td>\n",
       "      <td>0.378538</td>\n",
       "    </tr>\n",
       "    <tr>\n",
       "      <th>1</th>\n",
       "      <td>0</td>\n",
       "      <td>0.198499</td>\n",
       "      <td>-0.198499</td>\n",
       "    </tr>\n",
       "    <tr>\n",
       "      <th>2</th>\n",
       "      <td>0</td>\n",
       "      <td>0.274165</td>\n",
       "      <td>-0.274165</td>\n",
       "    </tr>\n",
       "    <tr>\n",
       "      <th>3</th>\n",
       "      <td>1</td>\n",
       "      <td>1.131968</td>\n",
       "      <td>-0.131968</td>\n",
       "    </tr>\n",
       "    <tr>\n",
       "      <th>4</th>\n",
       "      <td>1</td>\n",
       "      <td>1.120198</td>\n",
       "      <td>-0.120198</td>\n",
       "    </tr>\n",
       "    <tr>\n",
       "      <th>...</th>\n",
       "      <td>...</td>\n",
       "      <td>...</td>\n",
       "      <td>...</td>\n",
       "    </tr>\n",
       "    <tr>\n",
       "      <th>138</th>\n",
       "      <td>1</td>\n",
       "      <td>0.661984</td>\n",
       "      <td>0.338016</td>\n",
       "    </tr>\n",
       "    <tr>\n",
       "      <th>139</th>\n",
       "      <td>0</td>\n",
       "      <td>0.087425</td>\n",
       "      <td>-0.087425</td>\n",
       "    </tr>\n",
       "    <tr>\n",
       "      <th>140</th>\n",
       "      <td>1</td>\n",
       "      <td>0.969920</td>\n",
       "      <td>0.030080</td>\n",
       "    </tr>\n",
       "    <tr>\n",
       "      <th>141</th>\n",
       "      <td>0</td>\n",
       "      <td>0.004758</td>\n",
       "      <td>-0.004758</td>\n",
       "    </tr>\n",
       "    <tr>\n",
       "      <th>142</th>\n",
       "      <td>1</td>\n",
       "      <td>1.173091</td>\n",
       "      <td>-0.173091</td>\n",
       "    </tr>\n",
       "  </tbody>\n",
       "</table>\n",
       "<p>143 rows × 3 columns</p>\n",
       "</div>"
      ],
      "text/plain": [
       "     실제값       예측값        오차\n",
       "0      1  0.621462  0.378538\n",
       "1      0  0.198499 -0.198499\n",
       "2      0  0.274165 -0.274165\n",
       "3      1  1.131968 -0.131968\n",
       "4      1  1.120198 -0.120198\n",
       "..   ...       ...       ...\n",
       "138    1  0.661984  0.338016\n",
       "139    0  0.087425 -0.087425\n",
       "140    1  0.969920  0.030080\n",
       "141    0  0.004758 -0.004758\n",
       "142    1  1.173091 -0.173091\n",
       "\n",
       "[143 rows x 3 columns]"
      ]
     },
     "execution_count": 21,
     "metadata": {},
     "output_type": "execute_result"
    }
   ],
   "source": [
    "dict_dat = {\"실제값\":y_test, \"예측값\":pred, \"오차\":y_test - pred}\n",
    "dat = pd.DataFrame(dict_dat )\n",
    "dat"
   ]
  },
  {
   "cell_type": "code",
   "execution_count": 22,
   "metadata": {},
   "outputs": [
    {
     "data": {
      "text/html": [
       "<div>\n",
       "<style scoped>\n",
       "    .dataframe tbody tr th:only-of-type {\n",
       "        vertical-align: middle;\n",
       "    }\n",
       "\n",
       "    .dataframe tbody tr th {\n",
       "        vertical-align: top;\n",
       "    }\n",
       "\n",
       "    .dataframe thead th {\n",
       "        text-align: right;\n",
       "    }\n",
       "</style>\n",
       "<table border=\"1\" class=\"dataframe\">\n",
       "  <thead>\n",
       "    <tr style=\"text-align: right;\">\n",
       "      <th></th>\n",
       "      <th>실제값</th>\n",
       "      <th>예측값</th>\n",
       "      <th>오차</th>\n",
       "      <th>오차절대값</th>\n",
       "      <th>오차제곱</th>\n",
       "    </tr>\n",
       "  </thead>\n",
       "  <tbody>\n",
       "    <tr>\n",
       "      <th>0</th>\n",
       "      <td>1</td>\n",
       "      <td>0.621462</td>\n",
       "      <td>0.378538</td>\n",
       "      <td>0.378538</td>\n",
       "      <td>0.143291</td>\n",
       "    </tr>\n",
       "    <tr>\n",
       "      <th>1</th>\n",
       "      <td>0</td>\n",
       "      <td>0.198499</td>\n",
       "      <td>-0.198499</td>\n",
       "      <td>0.198499</td>\n",
       "      <td>0.039402</td>\n",
       "    </tr>\n",
       "    <tr>\n",
       "      <th>2</th>\n",
       "      <td>0</td>\n",
       "      <td>0.274165</td>\n",
       "      <td>-0.274165</td>\n",
       "      <td>0.274165</td>\n",
       "      <td>0.075167</td>\n",
       "    </tr>\n",
       "    <tr>\n",
       "      <th>3</th>\n",
       "      <td>1</td>\n",
       "      <td>1.131968</td>\n",
       "      <td>-0.131968</td>\n",
       "      <td>0.131968</td>\n",
       "      <td>0.017416</td>\n",
       "    </tr>\n",
       "    <tr>\n",
       "      <th>4</th>\n",
       "      <td>1</td>\n",
       "      <td>1.120198</td>\n",
       "      <td>-0.120198</td>\n",
       "      <td>0.120198</td>\n",
       "      <td>0.014447</td>\n",
       "    </tr>\n",
       "    <tr>\n",
       "      <th>...</th>\n",
       "      <td>...</td>\n",
       "      <td>...</td>\n",
       "      <td>...</td>\n",
       "      <td>...</td>\n",
       "      <td>...</td>\n",
       "    </tr>\n",
       "    <tr>\n",
       "      <th>138</th>\n",
       "      <td>1</td>\n",
       "      <td>0.661984</td>\n",
       "      <td>0.338016</td>\n",
       "      <td>0.338016</td>\n",
       "      <td>0.114255</td>\n",
       "    </tr>\n",
       "    <tr>\n",
       "      <th>139</th>\n",
       "      <td>0</td>\n",
       "      <td>0.087425</td>\n",
       "      <td>-0.087425</td>\n",
       "      <td>0.087425</td>\n",
       "      <td>0.007643</td>\n",
       "    </tr>\n",
       "    <tr>\n",
       "      <th>140</th>\n",
       "      <td>1</td>\n",
       "      <td>0.969920</td>\n",
       "      <td>0.030080</td>\n",
       "      <td>0.030080</td>\n",
       "      <td>0.000905</td>\n",
       "    </tr>\n",
       "    <tr>\n",
       "      <th>141</th>\n",
       "      <td>0</td>\n",
       "      <td>0.004758</td>\n",
       "      <td>-0.004758</td>\n",
       "      <td>0.004758</td>\n",
       "      <td>0.000023</td>\n",
       "    </tr>\n",
       "    <tr>\n",
       "      <th>142</th>\n",
       "      <td>1</td>\n",
       "      <td>1.173091</td>\n",
       "      <td>-0.173091</td>\n",
       "      <td>0.173091</td>\n",
       "      <td>0.029960</td>\n",
       "    </tr>\n",
       "  </tbody>\n",
       "</table>\n",
       "<p>143 rows × 5 columns</p>\n",
       "</div>"
      ],
      "text/plain": [
       "     실제값       예측값        오차     오차절대값      오차제곱\n",
       "0      1  0.621462  0.378538  0.378538  0.143291\n",
       "1      0  0.198499 -0.198499  0.198499  0.039402\n",
       "2      0  0.274165 -0.274165  0.274165  0.075167\n",
       "3      1  1.131968 -0.131968  0.131968  0.017416\n",
       "4      1  1.120198 -0.120198  0.120198  0.014447\n",
       "..   ...       ...       ...       ...       ...\n",
       "138    1  0.661984  0.338016  0.338016  0.114255\n",
       "139    0  0.087425 -0.087425  0.087425  0.007643\n",
       "140    1  0.969920  0.030080  0.030080  0.000905\n",
       "141    0  0.004758 -0.004758  0.004758  0.000023\n",
       "142    1  1.173091 -0.173091  0.173091  0.029960\n",
       "\n",
       "[143 rows x 5 columns]"
      ]
     },
     "execution_count": 22,
     "metadata": {},
     "output_type": "execute_result"
    }
   ],
   "source": [
    "dat['오차절대값'] = abs(dat['오차'])\n",
    "dat['오차제곱'] = dat['오차'] ** (2)\n",
    "dat"
   ]
  },
  {
   "cell_type": "markdown",
   "metadata": {},
   "source": [
    "### 평가 지표\n",
    "- MAE(mean absolute error)\n",
    "- MSE(mean squared error)\n",
    "- RMSE(root mean squared error)"
   ]
  },
  {
   "cell_type": "markdown",
   "metadata": {},
   "source": [
    "### MAE (mean absolute error)\n",
    "- 각각의 값에 절대값을 취한다. 이를 전부 더한 후, 갯수로 나누어주기"
   ]
  },
  {
   "cell_type": "code",
   "execution_count": 23,
   "metadata": {},
   "outputs": [
    {
     "data": {
      "text/plain": [
       "0.19587831432749128"
      ]
     },
     "execution_count": 23,
     "metadata": {},
     "output_type": "execute_result"
    }
   ],
   "source": [
    "### MSE, MAE, RMSE, RMLSE\n",
    "sum(dat['오차절대값'])/len(dat['오차절대값'])"
   ]
  },
  {
   "cell_type": "code",
   "execution_count": 24,
   "metadata": {},
   "outputs": [
    {
     "data": {
      "text/plain": [
       "0.19587831432749128"
      ]
     },
     "execution_count": 24,
     "metadata": {},
     "output_type": "execute_result"
    }
   ],
   "source": [
    "np.mean(dat['오차절대값'])"
   ]
  },
  {
   "cell_type": "markdown",
   "metadata": {},
   "source": [
    "### MSE (mean squared error)\n",
    "- (실제값-예측값) ^ 2 의 합를 데이터의 샘플의 개수로 나누어준것"
   ]
  },
  {
   "cell_type": "code",
   "execution_count": 25,
   "metadata": {},
   "outputs": [
    {
     "data": {
      "text/plain": [
       "0.0628904930723244"
      ]
     },
     "execution_count": 25,
     "metadata": {},
     "output_type": "execute_result"
    }
   ],
   "source": [
    "value = np.mean(dat['오차제곱'])\n",
    "value"
   ]
  },
  {
   "cell_type": "code",
   "execution_count": 26,
   "metadata": {},
   "outputs": [
    {
     "data": {
      "text/plain": [
       "0.0628904930723244"
      ]
     },
     "execution_count": 26,
     "metadata": {},
     "output_type": "execute_result"
    }
   ],
   "source": [
    "mse_value = sum(dat['오차'] ** 2) / len(dat['오차'])\n",
    "mse_value"
   ]
  },
  {
   "cell_type": "code",
   "execution_count": 27,
   "metadata": {},
   "outputs": [],
   "source": [
    "from sklearn.metrics import mean_squared_error"
   ]
  },
  {
   "cell_type": "code",
   "execution_count": 28,
   "metadata": {},
   "outputs": [
    {
     "data": {
      "text/plain": [
       "0.0628904930723244"
      ]
     },
     "execution_count": 28,
     "metadata": {},
     "output_type": "execute_result"
    }
   ],
   "source": [
    "mean_squared_error(y_test, pred)"
   ]
  },
  {
   "cell_type": "markdown",
   "metadata": {},
   "source": [
    "### RMSE (root mean squared error)\n",
    "- (실제값-예측값) ^ 2 의 합을 데이터의 샘플의 개수로 나누어 준 이후에 제곱근 씌우기"
   ]
  },
  {
   "cell_type": "code",
   "execution_count": 29,
   "metadata": {},
   "outputs": [
    {
     "name": "stdout",
     "output_type": "stream",
     "text": [
      "0.2507797700619498\n"
     ]
    }
   ],
   "source": [
    "# (1) 제곱에 루트를 씌워구하기  (2) 제곱한 값을 길이로 나누기\n",
    "rmse = np.sqrt(mse_value)\n",
    "# rmse = mse_value ** 0.5  # 다른 방법\n",
    "print(rmse)"
   ]
  },
  {
   "cell_type": "markdown",
   "metadata": {},
   "source": [
    "### 결정계수\n",
    "- 결정계수는 회귀모델에서 모델의 적합도를 의미하는 것으로 0~1사이의 값을 갖는다.\n",
    "- 1에 가까우면 가까울수록 이 모델은 좋다라고 볼수 있다."
   ]
  },
  {
   "cell_type": "code",
   "execution_count": 30,
   "metadata": {},
   "outputs": [
    {
     "name": "stdout",
     "output_type": "stream",
     "text": [
      "훈련 데이터 세트 점수 : 0.78\n",
      "테스트 데이터 세트 점수 : 0.73\n"
     ]
    }
   ],
   "source": [
    "# R^2의 값을 구하기- 결정계수 구하기\n",
    "print(\"훈련 데이터 세트 점수 : {:.2f}\".format(model.score(X_train, y_train)))\n",
    "print(\"테스트 데이터 세트 점수 : {:.2f}\".format(model.score(X_test, y_test)))"
   ]
  },
  {
   "cell_type": "code",
   "execution_count": 31,
   "metadata": {},
   "outputs": [
    {
     "name": "stdout",
     "output_type": "stream",
     "text": [
      "test_size :  0.1\n",
      "MAE : 0.201\n",
      "MSE : 0.070\n",
      "RMSE : 0.264\n",
      "\n",
      "test_size :  0.2\n",
      "MAE : 0.197\n",
      "MSE : 0.064\n",
      "RMSE : 0.253\n",
      "\n",
      "test_size :  0.3\n",
      "MAE : 0.200\n",
      "MSE : 0.067\n",
      "RMSE : 0.259\n",
      "\n",
      "test_size :  0.4\n",
      "MAE : 0.195\n",
      "MSE : 0.064\n",
      "RMSE : 0.253\n",
      "\n",
      "test_size :  0.5\n",
      "MAE : 0.195\n",
      "MSE : 0.061\n",
      "RMSE : 0.248\n",
      "\n"
     ]
    }
   ],
   "source": [
    "for i in range(1, 6, 1):\n",
    "    X_train, X_test, y_train, y_test = train_test_split(X, y, test_size=(i/10), random_state=42)\n",
    "\n",
    "    model = LinearRegression()\n",
    "    model.fit(X_train, y_train)\n",
    "    pred = model.predict(X_test)\n",
    "    pred[:5]\n",
    "    \n",
    "    mae = np.abs(y_test - pred).sum() / len(pred)\n",
    "    mse = ((y_test - pred)**2).sum()/len(pred)\n",
    "    rmse = (((y_test - pred)**2).sum()/len(pred))**0.5\n",
    "    \n",
    "    print(\"test_size : \",(i/10))\n",
    "    print(\"MAE : {:.3f}\".format(mae))\n",
    "    print(\"MSE : {:.3f}\".format(mse))\n",
    "    print(\"RMSE : {:.3f}\".format(rmse))\n",
    "    print(\"\")"
   ]
  },
  {
   "cell_type": "code",
   "execution_count": null,
   "metadata": {},
   "outputs": [],
   "source": []
  }
 ],
 "metadata": {
  "kernelspec": {
   "display_name": "Python 3",
   "language": "python",
   "name": "python3"
  },
  "language_info": {
   "codemirror_mode": {
    "name": "ipython",
    "version": 3
   },
   "file_extension": ".py",
   "mimetype": "text/x-python",
   "name": "python",
   "nbconvert_exporter": "python",
   "pygments_lexer": "ipython3",
   "version": "3.8.3"
  }
 },
 "nbformat": 4,
 "nbformat_minor": 4
}
